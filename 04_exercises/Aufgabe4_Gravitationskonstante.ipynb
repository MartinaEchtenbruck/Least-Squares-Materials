{
  "nbformat": 4,
  "nbformat_minor": 0,
  "metadata": {
    "colab": {
      "provenance": []
    },
    "kernelspec": {
      "name": "python3",
      "display_name": "Python 3"
    },
    "language_info": {
      "name": "python"
    }
  },
  "cells": [
    {
      "cell_type": "markdown",
      "source": [
        "# Aufgabe 4 - Gravitationskonstante bestimmen\n",
        "\n",
        "Sie haben ein Experiment durchgeführt in dem Sie ein kleines Objekt aus unterschiedlichen Höhen fallen gelassen haben und die Zeit bis zum Aufprall gestoppt haben. Aus den leicht verrauschten Messdaten und dem Wissen, dass im freien Fall gilt $s = \\frac{1}{2} g t^2$, möchten Sie nun die Gravitationskonstante $g$ herleiten.\n"
      ],
      "metadata": {
        "id": "cSBcDkaYhLj3"
      }
    },
    {
      "cell_type": "markdown",
      "source": [
        "## a) Stellen Sie den Zusammenhang zwischen $s$ und $t^2$ grafisch dar. Bilden Sie in Ihrem Diagramm dafür $t^2$ auf der x-Achse und $s$ auf der y-Achse ab."
      ],
      "metadata": {
        "id": "mShhNnD_iDJP"
      }
    },
    {
      "cell_type": "markdown",
      "source": [
        "Zunächst definieren wir die Messwerte"
      ],
      "metadata": {
        "id": "hJrjSQr9iPey"
      }
    },
    {
      "cell_type": "code",
      "execution_count": 2,
      "metadata": {
        "id": "7VkkiN-tVR1j"
      },
      "outputs": [],
      "source": [
        "import numpy as np\n",
        "import matplotlib.pyplot as plt\n",
        "\n",
        "# Messdaten\n",
        "t = np.array([0.43, 0.63, 0.81, 0.90, 1.01])\n",
        "s = np.array([1.0, 2.0, 3.0, 4.0, 5.0])"
      ]
    },
    {
      "cell_type": "markdown",
      "source": [
        "Da $t$ bekannt ist, können wir $t^2$ berechnen."
      ],
      "metadata": {
        "id": "xE4EhaPeiVqT"
      }
    },
    {
      "cell_type": "code",
      "source": [
        "# Berechnung von t^2\n",
        "t_squared = t ** 2"
      ],
      "metadata": {
        "id": "3znirJo7VTBt"
      },
      "execution_count": 3,
      "outputs": []
    },
    {
      "cell_type": "markdown",
      "source": [
        "Jetzt wo auch $t^2$ bekannt ist können die Werte geplottet werden."
      ],
      "metadata": {
        "id": "Kq78aJ5iigh8"
      }
    },
    {
      "cell_type": "code",
      "source": [
        "# Grafische Darstellung des Zusammenhangs zwischen s und t^2\n",
        "plt.scatter(t_squared, s, label='Messdaten')\n",
        "plt.xlabel('t^2')\n",
        "plt.ylabel('s')\n",
        "plt.title('Beziehung zwischen Fallhöhe s und t^2')\n",
        "plt.legend()\n",
        "plt.grid(True)\n",
        "plt.show()"
      ],
      "metadata": {
        "colab": {
          "base_uri": "https://localhost:8080/",
          "height": 54
        },
        "id": "TLnYHkB6VXSk",
        "outputId": "006c92f6-c79c-4e7a-c8ed-1bfd783f7ff1"
      },
      "execution_count": 4,
      "outputs": [
        {
          "output_type": "display_data",
          "data": {
            "text/plain": [
              "<Figure size 640x480 with 1 Axes>"
            ],
            "image/png": "[encoded data removed]"
          },
          "metadata": {}
        }
      ]
    },
    {
      "cell_type": "markdown",
      "source": [
        "## b) Welches Modell beschreibt den Zusammenhang in den Variablen $s$ und $t^2$ am besten? Verwenden Sie die Variablen $s$ und $t^2$ für ihr Modell. Überlegen Sie, wie die Fallzeit aus einer Höhe von 0m ist, und ob Sie mit dieser Überlegung ihr Modell weiter vereinfachen können."
      ],
      "metadata": {
        "id": "EAn6XWp-WWJ0"
      }
    },
    {
      "cell_type": "markdown",
      "source": [
        "In der grafischen Darstellung aus a) kann man einen linearen Zusammenhang zwischen $s$ und $t^2$ ablesen. Ein linearer Zusammenhang lässt sich am besten durch eine Gerade beschreiben: $\\hat{y}=mx+b$.\n",
        "UnterVerwendung der Variablen $s$ und $t^2$ ergibt sich dann: $\\hat{s}=m\\cdot t^2+b$.\n",
        "\n",
        "Aus einer Fallhöhe $s=0$ beträgt die Fallzeit $t=0$, also auch $t^2=0$. Dies bedeutet, dass die gesuchte Gerade durch den Ursprung verlaufen muss und der Achsenabschnitt $b$ der gesuchten Gerade also $0$ sein muss. Das betrachtete Modell kann daher zu $\\hat{s}=m\\cdot t^2$ vereinfacht werden."
      ],
      "metadata": {
        "id": "lrNaKBLEWl1r"
      }
    },
    {
      "cell_type": "markdown",
      "source": [
        "##  c) Bestimmen Sie die gesuchte Gerade mit der Methode der kleinsten Quadrate.  Führen Sie dazu zunächst die benötigte Formeln auf und berechnen Sie diese."
      ],
      "metadata": {
        "id": "kF8cLDzjittg"
      }
    },
    {
      "cell_type": "markdown",
      "source": [
        "Die benötigte Formel lautet: $m = \\frac{\\sum_{i=1}^{n}{(x_i - \\bar{x})(y_i - \\bar{y})}}{\\sum_{i=1}^{n}{(x_i - \\bar{x})^2}}$\n",
        "\n",
        "Um die Formel zu berechnen, bestimmen wir zunächst die Mittelwerte $\\bar{x}$ und $\\bar{y}$.\n"
      ],
      "metadata": {
        "id": "qHhOF8iibqvs"
      }
    },
    {
      "cell_type": "code",
      "source": [
        "# Berechnung der Mittelwerte von t_squared und s\n",
        "x_mean = np.mean(t_squared)\n",
        "y_mean = np.mean(s)\n",
        "\n",
        "print(f\"Mittelwert von t^2: {x_mean}\")\n",
        "print(f\"Mittelwert von s: {y_mean}\")\n"
      ],
      "metadata": {
        "colab": {
          "base_uri": "https://localhost:8080/"
        },
        "id": "tNiCMpT0fptS",
        "outputId": "239a42aa-dc52-4c8c-af30-d67a30b6f795"
      },
      "execution_count": 5,
      "outputs": [
        {
          "output_type": "stream",
          "name": "stdout",
          "text": [
            "Mittelwert von t^2: 0.6136000000000001\n",
            "Mittelwert von s: 3.0\n"
          ]
        }
      ]
    },
    {
      "cell_type": "code",
      "source": [
        "# Berechnung der Steigung m\n",
        "numerator = np.sum((t_squared - x_mean) * (s - y_mean))\n",
        "denominator = np.sum((t_squared - x_mean) ** 2)\n",
        "m = numerator / denominator\n",
        "\n",
        "print(f\"Steigung m: {m}\")"
      ],
      "metadata": {
        "colab": {
          "base_uri": "https://localhost:8080/"
        },
        "id": "B8Fmf3yAfuVr",
        "outputId": "f151236b-de60-49b2-9ac3-c80214420be1"
      },
      "execution_count": 6,
      "outputs": [
        {
          "output_type": "stream",
          "name": "stdout",
          "text": [
            "Steigung m: 4.774683083418147\n"
          ]
        }
      ]
    },
    {
      "cell_type": "markdown",
      "source": [
        "## d) Verwenden Sie die physikalische Formel für den freien Fall um von $m$ auf die Gravitationskonstante $g$ zu schließen. Vergleichen Sie Ihr Ergebnis mit dem aus der Literatur bekannten Wert für $g$."
      ],
      "metadata": {
        "id": "ZkiDU4zwfvXq"
      }
    },
    {
      "cell_type": "markdown",
      "source": [
        "Aus der physikalischen Gleichung für den freien Fall eines Objekts unter dem Einfluss der Gravitation $g$ wissen wir, dass gilt $s = \\frac{1}{2} g\\cdot t^2$.\n",
        "\n",
        "Unser Modell lautet $\\hat{s}=m\\cdot t^2$, daraus können wir schließen, dass $m=\\frac{1}{2}g$ und somit $g=2m$."
      ],
      "metadata": {
        "id": "lfH_8POOjOmC"
      }
    },
    {
      "cell_type": "code",
      "source": [
        "# Berechnung der Gravitationskonstante g\n",
        "g = 2*m\n",
        "\n",
        "print(f\"Gravitationskonstante g: {g} m/s^2\")"
      ],
      "metadata": {
        "colab": {
          "base_uri": "https://localhost:8080/"
        },
        "id": "xiBHEPqKVhc8",
        "outputId": "327afd0b-c925-4fe7-f677-48773acc3947"
      },
      "execution_count": 11,
      "outputs": [
        {
          "output_type": "stream",
          "name": "stdout",
          "text": [
            "Gravitationskonstante g: 9.549366166836293 m/s^2\n"
          ]
        }
      ]
    },
    {
      "cell_type": "markdown",
      "source": [
        "Die Gravitationskonstante beträgt tatsächlich $g=9,81\\frac{m}{s^2}$. Der von uns angenäherte Wert beträgt $9,55\\frac{m}{s^2}$ und weicht somit um $0,26\\frac{m}{s^2}$ ab."
      ],
      "metadata": {
        "id": "Nr0z7_REfCVs"
      }
    }
  ]
}