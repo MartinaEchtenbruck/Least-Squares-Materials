{
  "nbformat": 4,
  "nbformat_minor": 0,
  "metadata": {
    "colab": {
      "provenance": []
    },
    "kernelspec": {
      "name": "python3",
      "display_name": "Python 3"
    },
    "language_info": {
      "name": "python"
    }
  },
  "cells": [
    {
      "cell_type": "markdown",
      "source": [
        "# Die Least Squares Methode\n",
        "\n",
        "In vielen Anwendungen liegen Messdaten vor, die sich nicht exakt durch eine mathematische Funktion beschreiben lassen. Die Methode der kleinsten Quadrate (Least Squares) ist ein zentrales Verfahren, um aus solchen Daten eine \"beste\" Ausgleichsgerade zu bestimmen. In diesem Notebook wird gezeigt, wie sich diese Methode praktisch anwenden lässt, um eine lineare Regression durch eine Punktwolke zu berechnen und zu visualisieren."
      ],
      "metadata": {
        "id": "RV8CB8ebMXXb"
      }
    },
    {
      "cell_type": "markdown",
      "source": [
        "## Definition der Punkte\n",
        "Zunächst müssen die bekannten Punkte definiert werden. Hier sind die Punkte aus den Folien bereits hinterlegt."
      ],
      "metadata": {
        "id": "UYW143r-M_KE"
      }
    },
    {
      "cell_type": "code",
      "execution_count": 5,
      "metadata": {
        "id": "BKgUkWtv0Hwf",
        "colab": {
          "base_uri": "https://localhost:8080/"
        },
        "outputId": "955b8785-1371-4bac-f955-f9e14b06f1b3"
      },
      "outputs": [
        {
          "output_type": "execute_result",
          "data": {
            "text/plain": [
              "[(28, 400),\n",
              " (23, 60),\n",
              " (24, 180),\n",
              " (36, 625),\n",
              " (35, 560),\n",
              " (29, 290),\n",
              " (30, 620),\n",
              " (27, 440),\n",
              " (28, 250),\n",
              " (35, 480)]"
            ]
          },
          "metadata": {},
          "execution_count": 5
        }
      ],
      "source": [
        "\n",
        "import numpy as np\n",
        "import matplotlib.pyplot as plt\n",
        "\n",
        "# 1. Liste von 2D-Punkten definieren\n",
        "punkte = [(28, 400), (23,  60), (24, 180), (36, 625), (35, 560), (29, 290), (30, 620), (27, 440), (28, 250), (35, 480)]\n",
        "x = np.array([p[0] for p in punkte])\n",
        "y = np.array([p[1] for p in punkte])\n",
        "\n",
        "punkte"
      ]
    },
    {
      "cell_type": "markdown",
      "source": [
        "## Berechnung der Mittelwerte\n",
        "Für die Formel werden die Mittelwerte der x und y Werte der Punkte benötigt. Diese werden hier vorab berechnet"
      ],
      "metadata": {
        "id": "uZohVTrnNYeH"
      }
    },
    {
      "cell_type": "code",
      "source": [
        "# Mittelwerte von x und y berechnen\n",
        "mean_x = np.mean(x)\n",
        "mean_y = np.mean(y)\n",
        "\n",
        "print(f\"mean(x) {mean_x}  -- mean(y) = {mean_y}\")"
      ],
      "metadata": {
        "colab": {
          "base_uri": "https://localhost:8080/"
        },
        "id": "mGVNjjfUOxDS",
        "outputId": "795fffd5-0725-4fda-e299-b99c0acb3bb9"
      },
      "execution_count": 6,
      "outputs": [
        {
          "output_type": "stream",
          "name": "stdout",
          "text": [
            "mean(x) 29.5  -- mean(y) = 390.5\n"
          ]
        }
      ]
    },
    {
      "cell_type": "markdown",
      "source": [
        "## Berechnung der Steigung ***m***\n",
        "Zur Bestimmung von ***m*** haben wir eine Formel hergleitet, die nun verwendet wird um m zu bestimmen. Zur besseren nachvollziehbarkeit werden Zähler und Nenner der Formel zunächst separat berechnet."
      ],
      "metadata": {
        "id": "MiUz7KbxNtz9"
      }
    },
    {
      "cell_type": "code",
      "source": [
        "# Steigung m berechnen:\n",
        "# Zähler und Nenner der Formel getrennt\n",
        "numerator = np.sum((x - mean_x) * (y - mean_y))\n",
        "denominator = np.sum((x - mean_x)**2)\n",
        "\n",
        "print(f\"Zähler= {numerator}\");\n",
        "print(f\"Nenner= {denominator}\");\n",
        "\n",
        "# Steigung m\n",
        "m = numerator / denominator\n",
        "\n",
        "print(f\"Steigung m = {m}\")"
      ],
      "metadata": {
        "colab": {
          "base_uri": "https://localhost:8080/"
        },
        "id": "0gc8bgVWPb88",
        "outputId": "455e9ac9-10fb-4a22-d307-6c0cf58437ff"
      },
      "execution_count": 7,
      "outputs": [
        {
          "output_type": "stream",
          "name": "stdout",
          "text": [
            "Zähler= 6492.5\n",
            "Nenner= 186.5\n",
            "Steigung m = 34.812332439678286\n"
          ]
        }
      ]
    },
    {
      "cell_type": "markdown",
      "source": [
        "## Berechnung des Achsenabschnitts ***b***\n",
        "Wenn ***m*** bekannt ist kann ***b*** einfach direkt berechnet werden."
      ],
      "metadata": {
        "id": "aYM-n0FtN2RP"
      }
    },
    {
      "cell_type": "code",
      "source": [
        "# Achsenabschnitt b berechnen:\n",
        "b = mean_y - m * mean_x\n",
        "\n",
        "print(f\"Achsenabschnitt b = {b}\")"
      ],
      "metadata": {
        "colab": {
          "base_uri": "https://localhost:8080/"
        },
        "id": "j8O7bmhKcGqR",
        "outputId": "7984f338-2c22-415a-f556-3fc65cb18ef0"
      },
      "execution_count": 8,
      "outputs": [
        {
          "output_type": "stream",
          "name": "stdout",
          "text": [
            "Achsenabschnitt b = -636.4638069705095\n"
          ]
        }
      ]
    },
    {
      "cell_type": "markdown",
      "source": [
        "## Zeichnen der Ausgleichsgeraden\n",
        "Wenn ***m*** und ***b*** berechnet sind ist die Ausgleichsgerade eindeutig bestimmt und kann geplottet werden. Der folgende Plot zeichnet die oben definierten Punkte zusammen mit der durch m und b bestimmten Ausgleichsgeraden."
      ],
      "metadata": {
        "id": "eiubmts5OlCr"
      }
    },
    {
      "cell_type": "code",
      "source": [
        "### Punkte und Ausgleichsgerade plotten\n",
        "\n",
        "# Den dargestellten Bereich festlegen\n",
        "plt.ylim(0, 700)\n",
        "plt.xlim(10, 40)\n",
        "\n",
        "# Die Punkte zeichnen\n",
        "plt.scatter(x, y, color='blue', label='Punkte')\n",
        "\n",
        "# 100 Punkte der Ausgleichsgeraden berechnen\n",
        "x_line = np.linspace(10, 40, 100)\n",
        "y_line = m * x_line + b\n",
        "\n",
        "# Die Gerade zeichnen\n",
        "plt.plot(x_line, y_line, color='red', label='Ausgleichsgerade')\n",
        "\n",
        "# Labels, Titel und Legende setzen\n",
        "plt.xlabel('x')\n",
        "plt.ylabel('y')\n",
        "plt.title('Least-Squares Ausgleichsgerade')\n",
        "plt.legend()\n",
        "\n",
        "# Raster anzeigen\n",
        "plt.grid(True)\n",
        "\n",
        "# Plot anzeigen\n",
        "plt.show()"
      ],
      "metadata": {
        "colab": {
          "base_uri": "https://localhost:8080/",
          "height": 472
        },
        "id": "EVzks2USPd9-",
        "outputId": "2fbd889c-2a67-4147-e811-1048c161b697"
      },
      "execution_count": 10,
      "outputs": [
        {
          "output_type": "display_data",
          "data": {
            "text/plain": [
              "<Figure size 640x480 with 1 Axes>"
            ],
            "image/png": "[encoded data removed]"
          },
          "metadata": {}
        }
      ]
    }
  ]
}